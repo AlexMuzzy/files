{
 "cells": [
  {
   "cell_type": "markdown",
   "metadata": {},
   "source": [
    "**Advanced AI Coursework**\n",
    "*B716460*\n",
    "\n",
    "Aims for this report:\n",
    "* Results from a range of different parameters\n",
    "  * Results from a range of varying epochs for its training process.\n",
    "  * Adjustments to its given optmiser, such as; choice of optmisers and its given adjustments e.g., learning rate.\n",
    "* Implementation of a Convolutional Neural Network.\n",
    "* Implementation of a Recurring Neural Network.\n",
    "* Produce varying comparisons of the two architectures and how they differ."
   ]
  },
  {
   "cell_type": "code",
   "execution_count": 1,
   "metadata": {},
   "outputs": [],
   "source": [
    "import tensorflow as tf\n",
    "import numpy as np\n",
    "import cv2\n",
    "mnist = tf.keras.datasets.mnist\n",
    "cifar10 = tf.keras.datasets.cifar10\n",
    "\n",
    "(training_images, training_labels),(testing_images, testing_labels) = cifar10.load_data()\n",
    "training_images, training_labels = training_images, training_labels\n",
    "testing_images, testing_labels = testing_images, testing_labels\n",
    "\n",
    "training_labels = tf.keras.utils.to_categorical(training_labels)\n",
    "testing_labels = tf.keras.utils.to_categorical(testing_labels)"
   ]
  },
  {
   "cell_type": "code",
   "execution_count": 2,
   "metadata": {
    "pycharm": {
     "name": "#%%\n"
    }
   },
   "outputs": [
    {
     "output_type": "stream",
     "name": "stdout",
     "text": [
      "Resizing images from (32, 32) to (224, 224)\n"
     ]
    },
    {
     "output_type": "error",
     "ename": "NameError",
     "evalue": "name 'resolution' is not defined",
     "traceback": [
      "\u001b[1;31m---------------------------------------------------------------------------\u001b[0m",
      "\u001b[1;31mNameError\u001b[0m                                 Traceback (most recent call last)",
      "\u001b[1;32m<ipython-input-2-833314548f40>\u001b[0m in \u001b[0;36m<module>\u001b[1;34m\u001b[0m\n\u001b[0;32m      8\u001b[0m     \u001b[1;31m# return images / 255.0\u001b[0m\u001b[1;33m\u001b[0m\u001b[1;33m\u001b[0m\u001b[1;33m\u001b[0m\u001b[0m\n\u001b[0;32m      9\u001b[0m \u001b[1;33m\u001b[0m\u001b[0m\n\u001b[1;32m---> 10\u001b[1;33m \u001b[0mtraining_images\u001b[0m \u001b[1;33m=\u001b[0m \u001b[0mresize_and_normalise_image_set\u001b[0m\u001b[1;33m(\u001b[0m\u001b[0mtraining_images\u001b[0m\u001b[1;33m)\u001b[0m\u001b[1;33m\u001b[0m\u001b[1;33m\u001b[0m\u001b[0m\n\u001b[0m\u001b[0;32m     11\u001b[0m \u001b[0mprint\u001b[0m\u001b[1;33m(\u001b[0m\u001b[1;34m'Training images prepped.'\u001b[0m\u001b[1;33m)\u001b[0m\u001b[1;33m\u001b[0m\u001b[1;33m\u001b[0m\u001b[0m\n\u001b[0;32m     12\u001b[0m \u001b[0mtesting_images\u001b[0m \u001b[1;33m=\u001b[0m \u001b[0mresize_and_normalise_image_set\u001b[0m\u001b[1;33m(\u001b[0m\u001b[0mtesting_images\u001b[0m\u001b[1;33m)\u001b[0m\u001b[1;33m\u001b[0m\u001b[1;33m\u001b[0m\u001b[0m\n",
      "\u001b[1;32m<ipython-input-2-833314548f40>\u001b[0m in \u001b[0;36mresize_and_normalise_image_set\u001b[1;34m(images)\u001b[0m\n\u001b[0;32m      3\u001b[0m     \u001b[0mresized_images\u001b[0m \u001b[1;33m=\u001b[0m \u001b[0mnp\u001b[0m\u001b[1;33m.\u001b[0m\u001b[0mempty\u001b[0m\u001b[1;33m(\u001b[0m\u001b[1;33m(\u001b[0m\u001b[0mimages\u001b[0m\u001b[1;33m.\u001b[0m\u001b[0mshape\u001b[0m\u001b[1;33m[\u001b[0m\u001b[1;36m0\u001b[0m\u001b[1;33m]\u001b[0m\u001b[1;33m,\u001b[0m \u001b[1;36m224\u001b[0m\u001b[1;33m,\u001b[0m \u001b[1;36m224\u001b[0m\u001b[1;33m,\u001b[0m \u001b[1;36m3\u001b[0m\u001b[1;33m)\u001b[0m\u001b[1;33m,\u001b[0m \u001b[0mdtype\u001b[0m\u001b[1;33m=\u001b[0m\u001b[0mnp\u001b[0m\u001b[1;33m.\u001b[0m\u001b[0muint8\u001b[0m\u001b[1;33m)\u001b[0m\u001b[1;33m\u001b[0m\u001b[1;33m\u001b[0m\u001b[0m\n\u001b[0;32m      4\u001b[0m     \u001b[1;32mfor\u001b[0m \u001b[1;33m(\u001b[0m\u001b[0mi\u001b[0m\u001b[1;33m,\u001b[0m \u001b[0mimage\u001b[0m\u001b[1;33m)\u001b[0m \u001b[1;32min\u001b[0m \u001b[0menumerate\u001b[0m\u001b[1;33m(\u001b[0m\u001b[0mimages\u001b[0m\u001b[1;33m)\u001b[0m\u001b[1;33m:\u001b[0m\u001b[1;33m\u001b[0m\u001b[1;33m\u001b[0m\u001b[0m\n\u001b[1;32m----> 5\u001b[1;33m         \u001b[0mresized_images\u001b[0m\u001b[1;33m[\u001b[0m\u001b[0mi\u001b[0m\u001b[1;33m]\u001b[0m \u001b[1;33m=\u001b[0m \u001b[0mcv2\u001b[0m\u001b[1;33m.\u001b[0m\u001b[0mresize\u001b[0m\u001b[1;33m(\u001b[0m\u001b[0mimage\u001b[0m\u001b[1;33m,\u001b[0m \u001b[0mdsize\u001b[0m\u001b[1;33m=\u001b[0m\u001b[0mresolution\u001b[0m\u001b[1;33m)\u001b[0m\u001b[1;33m\u001b[0m\u001b[1;33m\u001b[0m\u001b[0m\n\u001b[0m\u001b[0;32m      6\u001b[0m     \u001b[1;31m# Normalise given images via division of max colour value.\u001b[0m\u001b[1;33m\u001b[0m\u001b[1;33m\u001b[0m\u001b[1;33m\u001b[0m\u001b[0m\n\u001b[0;32m      7\u001b[0m     \u001b[1;32mreturn\u001b[0m \u001b[0mresized_images\u001b[0m \u001b[1;33m/\u001b[0m \u001b[1;36m255.0\u001b[0m\u001b[1;33m\u001b[0m\u001b[1;33m\u001b[0m\u001b[0m\n",
      "\u001b[1;31mNameError\u001b[0m: name 'resolution' is not defined"
     ]
    }
   ],
   "source": [
    "def resize_and_normalise_image_set(images: np.ndarray):\n",
    "    print('Resizing %s from %s to (%s, %s)' % ('images', images.shape[1:-1], 224, 224))\n",
    "    resized_images = np.empty((images.shape[0], 224, 224, 3), dtype=np.uint8)\n",
    "    for (i, image) in enumerate(images):\n",
    "        resized_images[i] = cv2.resize(image, dsize=(224, 224))\n",
    "    # Normalise given images via division of max colour value.\n",
    "    return resized_images / 255.0\n",
    "    # return images / 255.0\n",
    "\n",
    "training_images = resize_and_normalise_image_set(training_images)\n",
    "print('Training images prepped.')\n",
    "testing_images = resize_and_normalise_image_set(testing_images)\n",
    "print('Testing images prepped.')"
   ]
  },
  {
   "cell_type": "markdown",
   "metadata": {},
   "source": [
    "Create a Keras API sequential neural network model. This sequential model follows the AlexNet structure but has\n",
    "been tweaked to conform with the CIFAR-10's dataset image size.\n",
    "\n",
    "[AlexNet Source Code](https://medium.com/analytics-vidhya/alexnet-tensorflow-2-1-0-d398b7c76cf)\n",
    "\n",
    "Original model was taken from this article and modified to adjust to the shape of the CIFAR-10 dataset images (32x32).\n",
    "\n",
    "[![Illustrated model](images/alexnet.jpg)](https://www.mdpi.com/2072-4292/9/8/848/htm)"
   ]
  },
  {
   "cell_type": "code",
   "execution_count": 14,
   "metadata": {},
   "outputs": [],
   "source": [
    "\n",
    "model = tf.keras.models.Sequential([\n",
    "    # 1st layer\n",
    "  tf.keras.layers.Conv2D(96, (11,11),strides=(4,4), activation='relu', input_shape=(32, 32, 3)),\n",
    "  tf.keras.layers.BatchNormalization(),\n",
    "  tf.keras.layers.MaxPooling2D(2, strides=(2,2)),\n",
    "    # 2nd conv\n",
    "  tf.keras.layers.Conv2D(256, (11,11),strides=(1,1), activation='relu',padding=\"same\"),\n",
    "  tf.keras.layers.BatchNormalization(),\n",
    "     # 3rd conv\n",
    "  tf.keras.layers.Conv2D(384, (3,3),strides=(1,1), activation='relu',padding=\"same\"),\n",
    "  tf.keras.layers.BatchNormalization(),\n",
    "    # 4th conv\n",
    "  tf.keras.layers.Conv2D(384, (3,3),strides=(1,1), activation='relu',padding=\"same\"),\n",
    "  tf.keras.layers.BatchNormalization(),\n",
    "    # 5th Conv\n",
    "  tf.keras.layers.Conv2D(256, (3, 3), strides=(1, 1), activation='relu',padding=\"same\"),\n",
    "  tf.keras.layers.BatchNormalization(),\n",
    "  tf.keras.layers.MaxPooling2D(2, strides=(2, 2)),\n",
    "  # To Flatten layer\n",
    "  tf.keras.layers.Flatten(),\n",
    "  # To FC layer 1\n",
    "  tf.keras.layers.Dense(4096, activation='relu'),\n",
    "    # add dropout 0.5 ==> keras.layers.Dropout(0.5),\n",
    "  #To FC layer 2\n",
    "  tf.keras.layers.Dense(4096, activation='relu'),\n",
    "    # add dropout 0.5 ==> keras.layers.Dropout(0.5),\n",
    "  tf.keras.layers.Dense(testing_labels.shape[1], activation='softmax')\n",
    "])"
   ]
  },
  {
   "cell_type": "code",
   "execution_count": null,
   "metadata": {},
   "outputs": [],
   "source": [
    "optimizer = tf.keras.optimizers.Adam(\n",
    "    learning_rate=0.001, beta_1=0.9, beta_2=0.999, epsilon=1e-07, amsgrad=False,\n",
    "    name='Adam', **kwargs\n",
    ")\n",
    "\n",
    "# Source: https://www.tensorflow.org/api_docs/python/tf/keras/optimizers/Adam"
   ]
  },
  {
   "cell_type": "code",
   "execution_count": 15,
   "metadata": {},
   "outputs": [],
   "source": [
    "model.compile(optimizer='adam',\n",
    "              loss=\"categorical_crossentropy\",\n",
    "              metrics=['accuracy'])"
   ]
  },
  {
   "cell_type": "markdown",
   "metadata": {},
   "source": [
    "The Model.fit method adjusts the model parameters to minimize the loss. The Model.evaluate method checks the model's\n",
    "performance against the \"testing_image\" dataset."
   ]
  },
  {
   "cell_type": "code",
   "execution_count": 16,
   "metadata": {
    "pycharm": {
     "name": "#%%\n"
    }
   },
   "outputs": [
    {
     "output_type": "stream",
     "name": "stdout",
     "text": [
      "Epoch 1/5\n",
      "1563/1563 [==============================] - 32s 20ms/step - loss: 1.7396 - accuracy: 0.3631\n",
      "Epoch 2/5\n",
      "1563/1563 [==============================] - 32s 20ms/step - loss: 1.3096 - accuracy: 0.5351\n",
      "Epoch 3/5\n",
      "1563/1563 [==============================] - 32s 20ms/step - loss: 1.1306 - accuracy: 0.5980\n",
      "Epoch 4/5\n",
      "1563/1563 [==============================] - 32s 20ms/step - loss: 0.9950 - accuracy: 0.6451\n",
      "Epoch 5/5\n",
      "1563/1563 [==============================] - 32s 20ms/step - loss: 0.8430 - accuracy: 0.7031\n",
      "Model: \"sequential_3\"\n",
      "_________________________________________________________________\n",
      "Layer (type)                 Output Shape              Param #   \n",
      "=================================================================\n",
      "conv2d_15 (Conv2D)           (None, 6, 6, 96)          34944     \n",
      "_________________________________________________________________\n",
      "batch_normalization_15 (Batc (None, 6, 6, 96)          384       \n",
      "_________________________________________________________________\n",
      "max_pooling2d_6 (MaxPooling2 (None, 3, 3, 96)          0         \n",
      "_________________________________________________________________\n",
      "conv2d_16 (Conv2D)           (None, 3, 3, 256)         2973952   \n",
      "_________________________________________________________________\n",
      "batch_normalization_16 (Batc (None, 3, 3, 256)         1024      \n",
      "_________________________________________________________________\n",
      "conv2d_17 (Conv2D)           (None, 3, 3, 384)         885120    \n",
      "_________________________________________________________________\n",
      "batch_normalization_17 (Batc (None, 3, 3, 384)         1536      \n",
      "_________________________________________________________________\n",
      "conv2d_18 (Conv2D)           (None, 3, 3, 384)         1327488   \n",
      "_________________________________________________________________\n",
      "batch_normalization_18 (Batc (None, 3, 3, 384)         1536      \n",
      "_________________________________________________________________\n",
      "conv2d_19 (Conv2D)           (None, 3, 3, 256)         884992    \n",
      "_________________________________________________________________\n",
      "batch_normalization_19 (Batc (None, 3, 3, 256)         1024      \n",
      "_________________________________________________________________\n",
      "max_pooling2d_7 (MaxPooling2 (None, 1, 1, 256)         0         \n",
      "_________________________________________________________________\n",
      "flatten_3 (Flatten)          (None, 256)               0         \n",
      "_________________________________________________________________\n",
      "dense_9 (Dense)              (None, 4096)              1052672   \n",
      "_________________________________________________________________\n",
      "dense_10 (Dense)             (None, 4096)              16781312  \n",
      "_________________________________________________________________\n",
      "dense_11 (Dense)             (None, 10)                40970     \n",
      "=================================================================\n",
      "Total params: 23,986,954\n",
      "Trainable params: 23,984,202\n",
      "Non-trainable params: 2,752\n",
      "_________________________________________________________________\n",
      "313/313 - 2s - loss: 1.2276 - accuracy: 0.5736\n"
     ]
    },
    {
     "output_type": "execute_result",
     "data": {
      "text/plain": [
       "[1.2275543212890625, 0.5735999941825867]"
      ]
     },
     "metadata": {},
     "execution_count": 16
    }
   ],
   "source": [
    "model.fit(training_images, training_labels, epochs=5)\n",
    "model.summary()\n",
    "model.evaluate(testing_images, testing_labels, verbose=2)"
   ]
  }
 ],
 "metadata": {
  "kernelspec": {
   "name": "python3",
   "display_name": "Python 3.8.8 64-bit ('ai-venv')",
   "metadata": {
    "interpreter": {
     "hash": "c659709f0ad2f62189c3d50f18ecda630d27ddb965aff85e5a237f8e0a59e95d"
    }
   }
  },
  "language_info": {
   "codemirror_mode": {
    "name": "ipython",
    "version": 3
   },
   "file_extension": ".py",
   "mimetype": "text/x-python",
   "name": "python",
   "nbconvert_exporter": "python",
   "pygments_lexer": "ipython3",
   "version": "3.8.8-final"
  }
 },
 "nbformat": 4,
 "nbformat_minor": 2
}