{
 "cells": [
  {
   "cell_type": "markdown",
   "metadata": {},
   "source": [
    "**Advanced AI Coursework**\n",
    "*B716460*\n",
    "\n",
    "Aims for this report:\n",
    " * Evaluate the comparitive differences between TensorFlow and Pytorch.\n",
    " * Produce a comparitive analysis from these given points:\n",
    "   * Results from a range of different parameter sizes.\n",
    "   * Results from a range of varying epochs for its training process.\n",
    "   * Overall Evaluation of these points on equivalant models from both frameworks.\n",
    "   * Develop and train 2 different architectures.\n",
    "   "
   ]
  },
  {
   "cell_type": "code",
   "execution_count": 1,
   "metadata": {},
   "outputs": [],
   "source": [
    "import tensorflow as tf\n",
    "mnist = tf.keras.datasets.mnist\n",
    "\n",
    "(training_images, training_labels),(testing_images, testing_labels) = mnist.load_data()\n",
    "#Load MNIST dataset from Keras API\n",
    "\n",
    "# Normalise given images via division of max colour value.\n",
    "training_images, testing_images = training_images / 255.0, testing_images / 255.0"
   ]
  },
  {
   "cell_type": "markdown",
   "metadata": {},
   "source": [
    "Create a Keras API sequential neural network model. Models"
   ]
  },
  {
   "cell_type": "code",
   "execution_count": 2,
   "metadata": {},
   "outputs": [],
   "source": [
    "model = tf.keras.models.Sequential([\n",
    "    tf.keras.layers.Flatten(input_shape=(28, 28)), \n",
    "    # 'flattens', Reshapes the tensor object to work with this model.\n",
    "    tf.keras.layers.Dense(128, activation='relu'), \n",
    "    # 128 neurons & relu activation function (only positive values)\n",
    "    tf.keras.layers.Dropout(0.2), \n",
    "    # Forget 20% of the input data as a means for the reduction of overfitting.\n",
    "    tf.keras.layers.Dense(64),\n",
    "    # 64 neurons & relu activation function (only positive values)\n",
    "    tf.keras.layers.Dense(32)\n",
    "    # 32 neurons & relu activation function (only positive values)\n",
    "])"
   ]
  },
  {
   "cell_type": "markdown",
   "metadata": {},
   "source": [
    "The losses.SparseCategoricalCrossentropy loss takes a vector of logits and a True index and returns a scalar loss for each example."
   ]
  },
  {
   "cell_type": "code",
   "execution_count": 3,
   "metadata": {},
   "outputs": [],
   "source": [
    "loss_function = tf.keras.losses.SparseCategoricalCrossentropy(from_logits=True)\n",
    "\n",
    "model.compile(optimizer='adam',\n",
    "              loss=loss_function,\n",
    "              metrics=['accuracy'])"
   ]
  },
  {
   "cell_type": "markdown",
   "metadata": {},
   "source": [
    "The Model.fit method adjusts the model parameters to minimize the loss. The Model.evaluate method checks the models performance againist the \"testing_image\" dataset."
   ]
  },
  {
   "cell_type": "code",
   "execution_count": 4,
   "metadata": {},
   "outputs": [
    {
     "name": "stdout",
     "output_type": "stream",
     "text": [
      "Epoch 1/5\n",
      "1875/1875 [==============================] - 2s 1ms/step - loss: 0.2890 - accuracy: 0.9143\n",
      "Epoch 2/5\n",
      "1875/1875 [==============================] - 2s 1ms/step - loss: 0.1378 - accuracy: 0.9577\n",
      "Epoch 3/5\n",
      "1875/1875 [==============================] - 2s 1ms/step - loss: 0.1092 - accuracy: 0.9662\n",
      "Epoch 4/5\n",
      "1875/1875 [==============================] - 2s 971us/step - loss: 0.0918 - accuracy: 0.9710\n",
      "Epoch 5/5\n",
      "1875/1875 [==============================] - 2s 998us/step - loss: 0.0812 - accuracy: 0.9740\n",
      "313/313 - 0s - loss: 0.0832 - accuracy: 0.9767\n"
     ]
    },
    {
     "data": {
      "text/plain": [
       "[0.08319815248250961, 0.9767000079154968]"
      ]
     },
     "execution_count": 4,
     "metadata": {},
     "output_type": "execute_result"
    }
   ],
   "source": [
    "model.fit(training_images, training_labels, epochs=5)\n",
    "\n",
    "model.evaluate(testing_images, testing_labels, verbose=2)"
   ]
  },
  {
   "cell_type": "code",
   "execution_count": null,
   "metadata": {},
   "outputs": [],
   "source": []
  }
 ],
 "metadata": {
  "kernelspec": {
   "display_name": "Python [conda env:ai_venv] *",
   "language": "python",
   "name": "conda-env-ai_venv-py"
  },
  "language_info": {
   "codemirror_mode": {
    "name": "ipython",
    "version": 3
   },
   "file_extension": ".py",
   "mimetype": "text/x-python",
   "name": "python",
   "nbconvert_exporter": "python",
   "pygments_lexer": "ipython3",
   "version": "3.8.8"
  }
 },
 "nbformat": 4,
 "nbformat_minor": 2
}
